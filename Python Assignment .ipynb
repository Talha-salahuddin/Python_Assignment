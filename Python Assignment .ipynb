{
 "cells": [
  {
   "cell_type": "code",
   "execution_count": 1,
   "metadata": {},
   "outputs": [
    {
     "name": "stdout",
     "output_type": "stream",
     "text": [
      "Input Radius: 0.5\n",
      "Area of Circle with radius 0.5 is 0.7853981633974483\n"
     ]
    }
   ],
   "source": [
    "# 1 Write a Python program which accepts the radius of a circle from the user and compute the area.\n",
    "\n",
    "import math\n",
    "r = float(input('Input Radius: '))\n",
    "a = math.pi * pow(r, 2)\n",
    "print(\"Area of Circle with radius {} is {}\".format(r,a))"
   ]
  },
  {
   "cell_type": "code",
   "execution_count": 3,
   "metadata": {},
   "outputs": [
    {
     "name": "stdout",
     "output_type": "stream",
     "text": [
      "Enter Number: -1\n",
      "Negative Number Entered\n"
     ]
    }
   ],
   "source": [
    "# 2 Write a Python program to check if a number is positive, negative or zero\n",
    "\n",
    "number = float(input('Enter Number: '))\n",
    "if number > 0:\n",
    "    print('Positive Number Entered')\n",
    "elif number < 0:\n",
    "    print('Negative Number Entered')\n",
    "else:\n",
    "    print('Zero Entered')"
   ]
  },
  {
   "cell_type": "code",
   "execution_count": 4,
   "metadata": {},
   "outputs": [
    {
     "name": "stdout",
     "output_type": "stream",
     "text": [
      "Enter Number: 1\n",
      "Positive Number Entered\n"
     ]
    }
   ],
   "source": [
    "number = float(input('Enter Number: '))\n",
    "if number > 0:\n",
    "    print('Positive Number Entered')\n",
    "elif number < 0:\n",
    "    print('Negative Number Entered')\n",
    "else:\n",
    "    print('Zero Entered')"
   ]
  },
  {
   "cell_type": "code",
   "execution_count": 5,
   "metadata": {},
   "outputs": [
    {
     "name": "stdout",
     "output_type": "stream",
     "text": [
      "Enter Number: 0\n",
      "Zero Entered\n"
     ]
    }
   ],
   "source": [
    "number = float(input('Enter Number: '))\n",
    "if number > 0:\n",
    "    print('Positive Number Entered')\n",
    "elif number < 0:\n",
    "    print('Negative Number Entered')\n",
    "else:\n",
    "    print('Zero Entered')"
   ]
  },
  {
   "cell_type": "code",
   "execution_count": 9,
   "metadata": {},
   "outputs": [
    {
     "name": "stdout",
     "output_type": "stream",
     "text": [
      "Enter Numerator: 4\n",
      "Enter Denumerator: 2\n",
      "Number 4 is completely divisible by 2\n"
     ]
    }
   ],
   "source": [
    "# 3 Write a Python program to check whether a number is completely divisible by another number. Accept two integer values form the user\n",
    "\n",
    "n = int(input('Enter Numerator: '))\n",
    "d = int(input('Enter Denumerator: '))\n",
    "if n % d == 0:\n",
    "    print(\"Number {} is completely divisible by {}\".format(n, d))\n",
    "else:\n",
    "    print(\"Number {} is not completely divisible by {}\".format(n, d))"
   ]
  },
  {
   "cell_type": "code",
   "execution_count": 10,
   "metadata": {},
   "outputs": [
    {
     "name": "stdout",
     "output_type": "stream",
     "text": [
      "Enter Numerator: 7\n",
      "Enter Denumerator: 4\n",
      "Number 7 is not completely divisible by 4\n"
     ]
    }
   ],
   "source": [
    "n = int(input('Enter Numerator: '))\n",
    "d = int(input('Enter Denumerator: '))\n",
    "if n % d == 0:\n",
    "    print(\"Number {} is completely divisible by {}\".format(n, d))\n",
    "else:\n",
    "    print(\"Number {} is not completely divisible by {}\".format(n, d))"
   ]
  },
  {
   "cell_type": "code",
   "execution_count": 4,
   "metadata": {},
   "outputs": [
    {
     "name": "stdout",
     "output_type": "stream",
     "text": [
      "Enter a First date in (dd/mm/yy) format:12/12/2018\n",
      "Enter a Second date in (dd/mm/yy) format:16/12/2018\n",
      "There are 4 days, 0:00:00 days in between 2018-12-12 00:00:00 and 2018-12-16 00:00:00\n"
     ]
    }
   ],
   "source": [
    "# 4 Write a Python program to calculate number of days between two dates.\n",
    "\n",
    "from datetime import datetime\n",
    "f = input('Enter a First date in (dd/mm/yy) format:')\n",
    "s = input('Enter a Second date in (dd/mm/yy) format:')\n",
    "d_format = \"%d/%m/%Y\"\n",
    "a = datetime.strptime(f, d_format)\n",
    "b = datetime.strptime(s, d_format)\n",
    "c = (b-a)\n",
    "print('There are {} days in between {} and {}'.format(c, a, b))"
   ]
  },
  {
   "cell_type": "code",
   "execution_count": 20,
   "metadata": {},
   "outputs": [
    {
     "name": "stdout",
     "output_type": "stream",
     "text": [
      "Enter a radius of a sphere: 1\n",
      "Volume of the Sphere with Radius 1 is 4.19\n"
     ]
    }
   ],
   "source": [
    "# 5 Write a Python program to get the volume of a sphere, please take the radius as input from user\n",
    "\n",
    "import math\n",
    "pi = 3.1415926535897931\n",
    "r = int(input('Enter a radius of a sphere: '))\n",
    "a = (4/3) * pi * r**3\n",
    "b = round(a, 2)\n",
    "print(\"Volume of the Sphere with Radius {} is {}\".format(r, b))"
   ]
  },
  {
   "cell_type": "code",
   "execution_count": 25,
   "metadata": {},
   "outputs": [
    {
     "name": "stdout",
     "output_type": "stream",
     "text": [
      "Enter String: Hi\n",
      "How many copies of String you need: 5\n",
      "5 Copies of Hi are\n",
      "Hi\n",
      "Hi\n",
      "Hi\n",
      "Hi\n",
      "Hi\n"
     ]
    }
   ],
   "source": [
    "# 6 Write a Python program to get a string which is n (non-negative integer) copies of a given string.\n",
    "\n",
    "st = input('Enter String: ')\n",
    "copy = int(input('How many copies of String you need: '))\n",
    "print('{} Copies of {} are'.format(copy, st))\n",
    "for i in range(copy):\n",
    "    print(st)"
   ]
  },
  {
   "cell_type": "code",
   "execution_count": 26,
   "metadata": {},
   "outputs": [
    {
     "name": "stdout",
     "output_type": "stream",
     "text": [
      "Enter the Number: 9\n",
      "9 is Odd\n"
     ]
    }
   ],
   "source": [
    "# 7 Write a Python program to find whether a given number (accept from the user) is even or odd, print out an appropriate message to the user\n",
    "\n",
    "number = int(input('Enter the Number: '))\n",
    "if(number%2 == 0):\n",
    "    print(\"{} is Even\".format(number))\n",
    "else:\n",
    "    print(\"{} is Odd\".format(number))"
   ]
  },
  {
   "cell_type": "code",
   "execution_count": 27,
   "metadata": {},
   "outputs": [
    {
     "name": "stdout",
     "output_type": "stream",
     "text": [
      "Enter the Number: 4\n",
      "4 is Even\n"
     ]
    }
   ],
   "source": [
    "number = int(input('Enter the Number: '))\n",
    "if(number%2 == 0):\n",
    "    print(\"{} is Even\".format(number))\n",
    "else:\n",
    "    print(\"{} is Odd\".format(number))"
   ]
  },
  {
   "cell_type": "code",
   "execution_count": 32,
   "metadata": {},
   "outputs": [
    {
     "name": "stdout",
     "output_type": "stream",
     "text": [
      "Enter a Character: A\n",
      "Letter A is a Vowel!\n"
     ]
    }
   ],
   "source": [
    "# 8 Write a Python program to test whether a passed letter is a vowel or not\n",
    "\n",
    "char = input('Enter a Character: ')\n",
    "if char == 'A' or char == 'a' or char == 'E' or char == 'e' or char == 'I' or char == 'i' or char == 'O' or char == 'o' or char == 'U' or char == 'u':\n",
    "    print('Letter {} is a Vowel!'.format(char))\n",
    "else:\n",
    "    print('Letter {} is not a Vowel!'.format(char))"
   ]
  },
  {
   "cell_type": "code",
   "execution_count": 33,
   "metadata": {},
   "outputs": [
    {
     "name": "stdout",
     "output_type": "stream",
     "text": [
      "Enter a Character: e\n",
      "Letter e is a Vowel!\n"
     ]
    }
   ],
   "source": [
    "char = input('Enter a Character: ')\n",
    "if char == 'A' or char == 'a' or char == 'E' or char == 'e' or char == 'I' or char == 'i' or char == 'O' or char == 'o' or char == 'U' or char == 'u':\n",
    "    print('Letter {} is a Vowel!'.format(char))\n",
    "else:\n",
    "    print('Letter {} is not a Vowel!'.format(char))"
   ]
  },
  {
   "cell_type": "code",
   "execution_count": 34,
   "metadata": {},
   "outputs": [
    {
     "name": "stdout",
     "output_type": "stream",
     "text": [
      "Enter a Character: N\n",
      "Letter N is not a Vowel!\n"
     ]
    }
   ],
   "source": [
    "char = input('Enter a Character: ')\n",
    "if char == 'A' or char == 'a' or char == 'E' or char == 'e' or char == 'I' or char == 'i' or char == 'O' or char == 'o' or char == 'U' or char == 'u':\n",
    "    print('Letter {} is a Vowel!'.format(char))\n",
    "else:\n",
    "    print('Letter {} is not a Vowel!'.format(char))"
   ]
  },
  {
   "cell_type": "code",
   "execution_count": 36,
   "metadata": {},
   "outputs": [
    {
     "name": "stdout",
     "output_type": "stream",
     "text": [
      "Enter magnitude of Triangle base: 4\n",
      "Enter Magnitude of Triangle Height: 4\n",
      "Area of a Triangle with Height 4 and Base 4 is 8.0\n"
     ]
    }
   ],
   "source": [
    "# 9 Write a Python program that will accept the base and height of a triangle and compute the area.\n",
    "\n",
    "b = int(input('Enter magnitude of Triangle base: '))\n",
    "h = int(input('Enter Magnitude of Triangle Height: '))\n",
    "area = (b*h)/2\n",
    "print('Area of a Triangle with Height {} and Base {} is {}'.format(h, b, area))"
   ]
  },
  {
   "cell_type": "code",
   "execution_count": 42,
   "metadata": {},
   "outputs": [
    {
     "name": "stdout",
     "output_type": "stream",
     "text": [
      "Please enter principal amount: 10000\n",
      "Please Enter Rate of interest in %: 0.1\n",
      "Enter number of years for investment: 5\n",
      "After 5.0 years your principal amount 10000.0 over an interest rate of 0.1 % will be 15000.0\n"
     ]
    }
   ],
   "source": [
    "# 10 Write a Python program to compute the future value of a specified principal amount, rate of interest, and a number of years\n",
    "\n",
    "principal = float(input('Please enter principal amount: '))\n",
    "rate = float(input('Please Enter Rate of interest in %: '))\n",
    "time = float(input('Enter number of years for investment: '))\n",
    "interest = (principal * rate * time) + principal\n",
    "print('After {} years your principal amount {} over an interest rate of {} % will be {}'.format(time, principal, rate, interest))"
   ]
  },
  {
   "cell_type": "code",
   "execution_count": 1,
   "metadata": {},
   "outputs": [
    {
     "name": "stdout",
     "output_type": "stream",
     "text": [
      "Enter Co-ordinate for x1: 2\n",
      "Enter Co-ordinate for y1: 4\n",
      "Enter Co-ordinate for x2: 4\n",
      "Enter Co-ordinate for y2: 4\n",
      "Distance between (2,4) and (4,4) is 2.0\n"
     ]
    }
   ],
   "source": [
    "# 11 Write a Python program to compute the distance between the points (x1, y1) and (x2, y2).\n",
    "\n",
    "import math\n",
    "x1 = int(input('Enter Co-ordinate for x1: '))\n",
    "y1 = int(input('Enter Co-ordinate for y1: '))\n",
    "x2 = int(input('Enter Co-ordinate for x2: '))\n",
    "y2 = int(input('Enter Co-ordinate for y2: '))\n",
    "\n",
    "ED = math.sqrt(pow(y1-x1, 2) + pow(y2-x2, 2))\n",
    "print('Distance between ({},{}) and ({},{}) is {}'.format(x1,y1,x2,y2,ED))"
   ]
  },
  {
   "cell_type": "code",
   "execution_count": 1,
   "metadata": {},
   "outputs": [
    {
     "name": "stdout",
     "output_type": "stream",
     "text": [
      "Enter Height in feets: 5\n",
      "There are 152.4 cm in height 5.0 feets\n"
     ]
    }
   ],
   "source": [
    "# 12 Write a Python program to convert height in feet to centimetres.\n",
    "\n",
    "height = float(input('Enter Height in feets: '))\n",
    "cm = height * 30.48\n",
    "print('There are {} cm in height {} feets'.format(cm, height))"
   ]
  },
  {
   "cell_type": "code",
   "execution_count": 2,
   "metadata": {},
   "outputs": [
    {
     "name": "stdout",
     "output_type": "stream",
     "text": [
      "Enter your height in cm: 180\n",
      "Enter weight in kg: 75\n",
      "You BMI is 23.148148148148145\n"
     ]
    }
   ],
   "source": [
    "# 13 Write a Python program to calculate body mass index\n",
    "\n",
    "height = float(input('Enter your height in cm: '))\n",
    "weight = float(input('Enter weight in kg: '))\n",
    "BMI = weight / pow(height/100, 2)\n",
    "print('You BMI is {}'.format(BMI))"
   ]
  },
  {
   "cell_type": "code",
   "execution_count": 3,
   "metadata": {},
   "outputs": [
    {
     "name": "stdout",
     "output_type": "stream",
     "text": [
      "Enter the value of n: 5\n",
      "Sum is 15.0\n"
     ]
    }
   ],
   "source": [
    "# 14 Write a python program to sum of the first n positive integers\n",
    "\n",
    "n = int(input('Enter the value of n: '))\n",
    "sum = (n*(n+1))/2\n",
    "print('Sum is {}'.format(sum))"
   ]
  },
  {
   "cell_type": "code",
   "execution_count": 4,
   "metadata": {},
   "outputs": [
    {
     "name": "stdout",
     "output_type": "stream",
     "text": [
      "Enter a number: 123\n",
      "6\n"
     ]
    }
   ],
   "source": [
    "# 15 Write a Python program to calculate the sum of the digits in an integer\n",
    "\n",
    "n = int(input('Enter a number: '))\n",
    "a = []\n",
    "total=0\n",
    "for i in str(n):\n",
    "    a.append(i)\n",
    "for b in range(0, len(a)):\n",
    "     total = total + int(a[b])\n",
    "print(total)"
   ]
  },
  {
   "cell_type": "code",
   "execution_count": 5,
   "metadata": {},
   "outputs": [
    {
     "name": "stdout",
     "output_type": "stream",
     "text": [
      "Enter the Decimal number: 13\n",
      "1101\n"
     ]
    }
   ],
   "source": [
    "# 16 Write a Python program to convert an decimal integer to binary\n",
    "\n",
    "deci = int(input('Enter the Decimal number: '))\n",
    "q=1\n",
    "a = []\n",
    "while q != 0:\n",
    "    q = deci // 2\n",
    "#     print('{}'.format(), end='')\n",
    "    a.append(deci%2)\n",
    "    deci = q\n",
    "print(*a[::-1],sep='')"
   ]
  },
  {
   "cell_type": "code",
   "execution_count": 7,
   "metadata": {},
   "outputs": [
    {
     "name": "stdout",
     "output_type": "stream",
     "text": [
      "Enter binary expression: 1101\n",
      "Your decimal number is: 13\n"
     ]
    }
   ],
   "source": [
    "# 17 Write a program to convert binary number to Decimal number\n",
    "\n",
    "binary = input('Enter binary expression: ')\n",
    "print('Your decimal number is:', int(binary, 2))"
   ]
  },
  {
   "cell_type": "code",
   "execution_count": 9,
   "metadata": {},
   "outputs": [
    {
     "name": "stdout",
     "output_type": "stream",
     "text": [
      "Enter Text: i am talha\n",
      "Vowel is 4\n",
      "Consonant is 4\n",
      "Spaces is 2\n"
     ]
    }
   ],
   "source": [
    "# 18 Input a text and count the occurrences of vowels and consonant\n",
    "\n",
    "text = input('Enter Text: ')\n",
    "vowel = 0\n",
    "consonant = 0\n",
    "space = 0\n",
    "for e in text:\n",
    "    if ord(e) == 65 or ord(e) == 97 or ord(e) == 69 or ord(e) == 101 or ord(e) == 73 or ord(e) == 105 or ord(e) == 79 or ord(e) == 111 or ord(e) == 85 or ord(e) == 117:\n",
    "        vowel += 1\n",
    "    elif ord(e) == 32:\n",
    "        space += 1\n",
    "    else:\n",
    "        consonant += 1\n",
    "print(\"Vowel is {}\\nConsonant is {}\\nSpaces is {}\".format(vowel, consonant, space))"
   ]
  },
  {
   "cell_type": "code",
   "execution_count": 10,
   "metadata": {},
   "outputs": [
    {
     "name": "stdout",
     "output_type": "stream",
     "text": [
      "Enter a word to check its palindrome or not: pop\n",
      "Yes it is!\n"
     ]
    }
   ],
   "source": [
    "# 19 Write a program to check whether given input is palindrome or not\n",
    "\n",
    "word = input('Enter a word to check its palindrome or not: ')\n",
    "a = []\n",
    "for e in word:\n",
    "    a.append(e)\n",
    "if a[::-1] == list(word):\n",
    "    print(\"Yes it is!\")\n",
    "else:\n",
    "    print('No its not!')"
   ]
  },
  {
   "cell_type": "code",
   "execution_count": 11,
   "metadata": {},
   "outputs": [
    {
     "name": "stdout",
     "output_type": "stream",
     "text": [
      "Enter the text: talha @ !@ 0384\n",
      "Letters = 5\n",
      "Numbers = 4\n",
      "Spaces = 3\n",
      "Special Char = 3\n"
     ]
    }
   ],
   "source": [
    "# 20 Write a Python program that accepts a string and calculate the number of digits and letters\n",
    "\n",
    "text = input('Enter the text: ')\n",
    "letters = 0\n",
    "numbers = 0\n",
    "spc = 0\n",
    "space = 0\n",
    "for e in text:\n",
    "    if (ord(e)>=65 and ord(e)<=90) or (ord(e)>=97 and ord(e)<=122):\n",
    "        letters += 1\n",
    "    elif ord(e) == 32:\n",
    "        space += 1\n",
    "    elif ord(e)>=48 and ord(e)<=57:\n",
    "        numbers += 1\n",
    "    else:\n",
    "        spc+=1\n",
    "print('Letters = {}\\nNumbers = {}\\nSpaces = {}\\nSpecial Char = {}'.format(letters, numbers, space, spc))"
   ]
  },
  {
   "cell_type": "code",
   "execution_count": 12,
   "metadata": {},
   "outputs": [
    {
     "name": "stdout",
     "output_type": "stream",
     "text": [
      "How many rows do you want? 5\n",
      "* \n",
      "* * \n",
      "* * * \n",
      "* * * * \n",
      "* * * * * \n",
      "* * * * \n",
      "* * * \n",
      "* * \n",
      "* \n",
      "\n"
     ]
    }
   ],
   "source": [
    "# 21 Write a Python program to construct the following pattern\n",
    "\n",
    "rows = int(input('How many rows do you want? '))\n",
    "for i in range (0, rows):\n",
    "    for j in range(0, i + 1):\n",
    "        print(\"*\", end=' ')\n",
    "    print(\"\\r\")\n",
    "for i in range (rows, 0, -1):\n",
    "    for j in range(0, i -1):\n",
    "        print(\"*\", end=' ')\n",
    "    print(\"\\r\")"
   ]
  },
  {
   "cell_type": "code",
   "execution_count": 13,
   "metadata": {},
   "outputs": [
    {
     "name": "stdout",
     "output_type": "stream",
     "text": [
      "How many rows do you want? 5\n",
      "\n",
      "1 \n",
      "1 2 \n",
      "1 2 3 \n",
      "1 2 3 4 \n",
      "1 2 3 \n",
      "1 2 \n",
      "1 \n",
      "\n",
      "\n"
     ]
    }
   ],
   "source": [
    "# 22 Write a Python program to construct the following pattern\n",
    "\n",
    "rows = int(input('How many rows do you want? '))\n",
    "for i in range (0, rows):\n",
    "    for j in range(1, i + 1):\n",
    "        print(\"{}\".format(j), end=' ')\n",
    "    print(\"\\r\")\n",
    "for i in range (rows, 0, -1):\n",
    "    for j in range(1, i -1):\n",
    "        print(\"{}\".format(j), end=' ')\n",
    "    print(\"\\r\")"
   ]
  },
  {
   "cell_type": "code",
   "execution_count": 14,
   "metadata": {},
   "outputs": [
    {
     "name": "stdout",
     "output_type": "stream",
     "text": [
      "How many rows do you want: 9\n",
      "0\n",
      "11\n",
      "222\n",
      "3333\n",
      "44444\n",
      "555555\n",
      "6666666\n",
      "77777777\n",
      "888888888\n"
     ]
    }
   ],
   "source": [
    "# 23 Write a Python program to construct the following pattern\n",
    "\n",
    "rows = int(input('How many rows do you want: '))\n",
    "for i in range(rows):\n",
    "    for j in range(i+1):\n",
    "        print(i, end = '')\n",
    "    print('\\r')"
   ]
  },
  {
   "cell_type": "code",
   "execution_count": null,
   "metadata": {},
   "outputs": [],
   "source": []
  },
  {
   "cell_type": "code",
   "execution_count": null,
   "metadata": {},
   "outputs": [],
   "source": []
  }
 ],
 "metadata": {
  "kernelspec": {
   "display_name": "Python 3",
   "language": "python",
   "name": "python3"
  },
  "language_info": {
   "codemirror_mode": {
    "name": "ipython",
    "version": 3
   },
   "file_extension": ".py",
   "mimetype": "text/x-python",
   "name": "python",
   "nbconvert_exporter": "python",
   "pygments_lexer": "ipython3",
   "version": "3.7.3"
  }
 },
 "nbformat": 4,
 "nbformat_minor": 2
}
